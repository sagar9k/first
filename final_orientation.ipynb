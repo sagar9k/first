{
 "cells": [
  {
   "cell_type": "code",
   "execution_count": 9,
   "id": "205e1687",
   "metadata": {},
   "outputs": [],
   "source": [
    "import tensorflow as tf\n",
    "import matplotlib.pyplot as plt\n",
    "import cv2\n",
    "import os\n",
    "import numpy as np\n",
    "from tensorflow.keras.preprocessing import image\n",
    "from tensorflow.keras.preprocessing.image import ImageDataGenerator\n",
    "import pickle"
   ]
  },
  {
   "cell_type": "code",
   "execution_count": 10,
   "id": "4ebf8fd2",
   "metadata": {},
   "outputs": [],
   "source": [
    "with open('model_pickle4','rb')as f:\n",
    "    model4=pickle.load(f)"
   ]
  },
  {
   "cell_type": "code",
   "execution_count": 11,
   "id": "8ac95bd9",
   "metadata": {},
   "outputs": [],
   "source": [
    "import PyPDF2\n",
    "import fitz\n",
    "import pytesseract\n",
    "from PIL import Image\n",
    "\n",
    "\n",
    "def extract_image_from_pdf(pdf_file):\n",
    "    pdf = fitz.open(pdf_file)\n",
    "\n",
    "    for page_number in range(len(pdf)):\n",
    "        page = pdf[page_number]\n",
    "        image_list = page.get_images(full=True)\n",
    "\n",
    "        for image_index, img in enumerate(image_list):\n",
    "            xref = img[0]\n",
    "            base_image = pdf.extract_image(xref)\n",
    "            image_data = base_image[\"image\"]\n",
    "\n",
    "            with open(f\"image_page_{page_number + 1}_index_{image_index + 1}.png\", \"wb\") as image_file:\n",
    "                image_file.write(image_data)\n",
    "\n",
    "\n",
    "pdf_file = 'MANGILAL.pdf'  \n",
    "extract_image_from_pdf(pdf_file)"
   ]
  },
  {
   "cell_type": "code",
   "execution_count": 12,
   "id": "79c7ed99",
   "metadata": {},
   "outputs": [],
   "source": [
    "from PIL import Image\n",
    "def rotate_images(dir_path, model):\n",
    "    for imgs in os.listdir(dir_path):\n",
    "        img = image.load_img(dir_path+'//'+imgs ,target_size=(64,64))\n",
    "        img_array =image.img_to_array(img)\n",
    "        img_array = np.expand_dims(img_array, axis=0)\n",
    "        y_hat = model4.predict(img_array)\n",
    "        y_pred = np.argmax(y_hat, axis=1)[0]\n",
    "        y=int(y_pred)\n",
    "        img_pr = (dir_path+'//'+imgs)\n",
    "\n",
    "        if y==0:\n",
    "            new_img=Image.open(img_pr)\n",
    "            new_img = new_img.rotate(angle=180, expand=True)\n",
    "            new_img.save(f\"result/rotated_{imgs}\")\n",
    "        elif y==1:\n",
    "            new_img=Image.open(img_pr)\n",
    "            new_img = new_img.rotate(angle=270, expand=True)\n",
    "            new_img.save(f\"result/rotated_{imgs}\")\n",
    "        elif y==2:\n",
    "            new_img=Image.open(img_pr)\n",
    "            new_img = new_img.rotate(angle=90, expand=True)\n",
    "            new_img.save(f\"result/rotated_{imgs}\")\n",
    "        else:\n",
    "            new_img=Image.open(img_pr)\n",
    "            new_img=new_img.rotate(angle=0,expand=True)\n",
    "            new_img.save(f\"result/rotated_{imgs}\")\n",
    "dir_path='test'\n",
    "model=model4\n",
    "rotate_images(dir_path, model)"
   ]
  },
  {
   "cell_type": "code",
   "execution_count": 13,
   "id": "bb925cd8",
   "metadata": {},
   "outputs": [],
   "source": [
    "from fpdf import FPDF\n",
    "def convert_images_to_pdf(dir_path):\n",
    "    pdf = FPDF()\n",
    "    image_paths=os.listdir(dir_path)\n",
    "    for image_path in image_paths:\n",
    "        pdf.add_page()\n",
    "        pdf.image(dir_path+'/'+image_path, 0, 0, 210, 297)\n",
    "\n",
    "    pdf.output(\"output_def.pdf\")\n",
    "\n",
    "    \n",
    "dir_path='result'\n",
    "convert_images_to_pdf(dir_path)"
   ]
  },
  {
   "cell_type": "code",
   "execution_count": 7,
   "id": "30968400",
   "metadata": {
    "scrolled": true
   },
   "outputs": [
    {
     "name": "stdout",
     "output_type": "stream",
     "text": [
      "Collecting fpdf\n",
      "  Downloading fpdf-1.7.2.tar.gz (39 kB)\n",
      "  Preparing metadata (setup.py): started\n",
      "  Preparing metadata (setup.py): finished with status 'done'\n",
      "Building wheels for collected packages: fpdf\n",
      "  Building wheel for fpdf (setup.py): started\n",
      "  Building wheel for fpdf (setup.py): finished with status 'done'\n",
      "  Created wheel for fpdf: filename=fpdf-1.7.2-py2.py3-none-any.whl size=40712 sha256=8a48e9f1e8c7830665e14a6f847ae8ce6cfdfc1d74aeb444e603c0fc3a86bb05\n",
      "  Stored in directory: c:\\users\\sagar\\appdata\\local\\pip\\cache\\wheels\\65\\4f\\66\\bbda9866da446a72e206d6484cd97381cbc7859a7068541c36\n",
      "Successfully built fpdf\n",
      "Installing collected packages: fpdf\n",
      "Successfully installed fpdf-1.7.2\n"
     ]
    }
   ],
   "source": []
  },
  {
   "cell_type": "code",
   "execution_count": null,
   "id": "30075aa4",
   "metadata": {},
   "outputs": [],
   "source": []
  }
 ],
 "metadata": {
  "kernelspec": {
   "display_name": "Python 3 (ipykernel)",
   "language": "python",
   "name": "python3"
  },
  "language_info": {
   "codemirror_mode": {
    "name": "ipython",
    "version": 3
   },
   "file_extension": ".py",
   "mimetype": "text/x-python",
   "name": "python",
   "nbconvert_exporter": "python",
   "pygments_lexer": "ipython3",
   "version": "3.11.0"
  }
 },
 "nbformat": 4,
 "nbformat_minor": 5
}
